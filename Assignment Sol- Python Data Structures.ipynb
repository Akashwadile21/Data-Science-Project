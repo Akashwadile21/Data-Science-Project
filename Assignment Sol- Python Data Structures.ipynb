{
 "cells": [
  {
   "cell_type": "code",
   "execution_count": 1,
   "metadata": {},
   "outputs": [
    {
     "name": "stdout",
     "output_type": "stream",
     "text": [
      "[500, 400, 300, 200, 100]\n"
     ]
    }
   ],
   "source": [
    "'''1. Reverse a given list in Python\n",
    "aLsit = [100, 200, 300, 400, 500]\n",
    "output:\n",
    " [500, 400, 300, 200, 100]'''\n",
    "\n",
    "aList = [100, 200, 300, 400, 500]\n",
    "aList = aList[::-1]\n",
    "print(aList)"
   ]
  },
  {
   "cell_type": "code",
   "execution_count": 2,
   "metadata": {},
   "outputs": [
    {
     "name": "stdout",
     "output_type": "stream",
     "text": [
      "['My', 'name', 'is', 'Rajesh']\n",
      "['My', 'name', 'is', 'Rajesh']\n"
     ]
    }
   ],
   "source": [
    "'''2. Concatenate two lists index-wise\n",
    "Given:\n",
    "list1 = [\"M\", \"na\", \"i\", \"Raj\"]\n",
    "list2 = [\"y\", \"me\", \"s\", \"esh\"]\n",
    "output:\n",
    "['My', 'name', 'is', 'Rajesh']'''\n",
    "\n",
    "list1 = [\"M\", \"na\", \"i\", \"Raj\"] \n",
    "list2 = [\"y\", \"me\", \"s\", \"esh\"]\n",
    "list3 = []\n",
    "for i in range(len(list1)):\n",
    "    list3.append(list1[i]+list2[i])\n",
    "print(list3)\n",
    "\n",
    "#or\n",
    "\n",
    "list1 = [\"M\", \"na\", \"i\", \"Raj\"] \n",
    "list2 = [\"y\", \"me\", \"s\", \"esh\"]\n",
    "list3 = [i + j for i, j in zip(list1, list2)]\n",
    "print(list3)"
   ]
  },
  {
   "cell_type": "code",
   "execution_count": 3,
   "metadata": {},
   "outputs": [
    {
     "name": "stdout",
     "output_type": "stream",
     "text": [
      "{'Ten': 10, 'Twenty': 20, 'Thirty': 30, 'Fourty': 40, 'Fifty': 50}\n",
      "{'Ten': 10, 'Twenty': 20, 'Thirty': 30, 'Fourty': 40, 'Fifty': 50}\n"
     ]
    }
   ],
   "source": [
    "'''3. Merge following two Python dictionaries into one\n",
    "dict1 = {'Ten': 10, 'Twenty': 20, 'Thirty': 30}\n",
    "dict2 = {'Thirty': 30, 'Fourty': 40, 'Fifty': 50}\n",
    "Expected output:\n",
    "{'Ten': 10, 'Twenty': 20, 'Thirty': 30, 'Fourty': 40, 'Fifty': 50}\n",
    "Solution:\n",
    "dict1 = {'Ten': 10, 'Twenty': 20, 'Thirty': 30}\n",
    "dict2 = {'Thirty': 30, 'Fourty': 40, 'Fifty': 50}\n",
    "# ** operator unpack the dictionary and then merge bot dictionaries\n",
    "dict3 = {**dict1, **dict2}\n",
    "print(dict3)'''\n",
    "\n",
    "dict1 = {'Ten': 10, 'Twenty': 20, 'Thirty': 30}\n",
    "dict2 = {'Thirty': 30, 'Fourty': 40, 'Fifty': 50}\n",
    "dict3 = {**dict1, **dict2}\n",
    "print(dict3)\n",
    "\n",
    "#OR\n",
    "\n",
    "dict1 = {\"Ten\": 10, \"Twenty\": 20, \"Thirty\": 30}\n",
    "dict2 = {\"Thirty\": 30, \"Fourty\": 40, \"Fifty\": 50}\n",
    "dict1.update(dict2)\n",
    "print(dict1)"
   ]
  },
  {
   "cell_type": "code",
   "execution_count": 4,
   "metadata": {},
   "outputs": [
    {
     "name": "stdout",
     "output_type": "stream",
     "text": [
      "[5, 15, 25, 50]\n",
      "[5, 15, 25, 50]\n"
     ]
    }
   ],
   "source": [
    "'''4. Given a Python list, remove all occurrence of 20 from the list\n",
    "list1 = [5, 20, 15, 20, 25, 50, 20]\n",
    "output:\n",
    "[5, 15, 25, 50] '''\n",
    "\n",
    "list1 = [5, 20, 15, 20, 25, 50, 20]\n",
    "\n",
    "def removeValue(sampleList, val):\n",
    "   return [value for value in sampleList if value != val]\n",
    "resList = removeValue(list1, 20)\n",
    "print(resList)\n",
    "\n",
    "#or\n",
    "\n",
    "def remove_items(samplelist, val):\n",
    "    for i in samplelist:\n",
    "        if(i == val):\n",
    "            samplelist.remove(i)\n",
    "  \n",
    "    return samplelist\n",
    "remove_items(list1,20)\n",
    "\n",
    "#or\n",
    "\n",
    "list1=[5,20,15,20,25,50,20]\n",
    "c=list1.count(20)\n",
    "for i in range(c):\n",
    "  list1.pop(list1.index(20))\n",
    "print(list1)"
   ]
  },
  {
   "cell_type": "code",
   "execution_count": 11,
   "metadata": {},
   "outputs": [
    {
     "name": "stdout",
     "output_type": "stream",
     "text": [
      "[('Rust', 30), ('Python', 25), ('C++', 3), ('C#', 1)]\n"
     ]
    }
   ],
   "source": [
    "'''5. How to remove duplicates from a list of tuples using the list comprehension technique?\n",
    "#a list of tuples\n",
    "\tlist_of_tuples= [(\"C#\", 1), (\"C#\", 1), (\"C++\", 3),(\"C++\", 3), (\"Python\", 25), (\"Rust\", 30)]\n",
    "\tWrite the syntax for the above question. '''\n",
    "\n",
    "list_of_tuples= [(\"C#\", 1), (\"C#\", 1), (\"C++\", 3),(\"C++\", 3), (\"Python\", 25), (\"Rust\", 30)]\n",
    "unique_list_of_tuples=list(set([item for item  in list_of_tuples]))\n",
    "print(unique_list_of_tuples)"
   ]
  },
  {
   "cell_type": "code",
   "execution_count": 21,
   "metadata": {},
   "outputs": [
    {
     "name": "stdout",
     "output_type": "stream",
     "text": [
      "4\n",
      "7\n",
      "11\n",
      "15\n"
     ]
    }
   ],
   "source": [
    "''' 6. What will be the output of the following code snippet?\n",
    "arr = [[1, 2, 3, 4],\n",
    "       [4, 5, 6, 7],\n",
    "       [8, 9, 10, 11],\n",
    "       [12, 13, 14, 15]]\n",
    "for i in range(0, 4):\n",
    "    print(arr[i].pop())'''\n",
    "\n",
    "arr = [[1, 2, 3, 4],\n",
    "       [4, 5, 6, 7],\n",
    "       [8, 9, 10, 11],\n",
    "       [12, 13, 14, 15]]\n",
    "for i in range(0, 4):\n",
    "    print(arr[i].pop())\n"
   ]
  },
  {
   "cell_type": "code",
   "execution_count": 17,
   "metadata": {},
   "outputs": [
    {
     "data": {
      "text/plain": [
       "3"
      ]
     },
     "execution_count": 17,
     "metadata": {},
     "output_type": "execute_result"
    }
   ],
   "source": [
    "'''7. Get the number of items in a set:\n",
    "thisset = {\"apple\", \"banana\", \"cherry\"}\n",
    "Write the syntax for the above question.'''\n",
    "thisset = {\"apple\", \"banana\", \"cherry\"}\n",
    "len(thisset)"
   ]
  },
  {
   "cell_type": "code",
   "execution_count": 18,
   "metadata": {},
   "outputs": [
    {
     "name": "stdout",
     "output_type": "stream",
     "text": [
      "Yes, apple is a fruit!\n"
     ]
    }
   ],
   "source": [
    "'''8. Check if \"apple\" is present in the ‘fruits’ set using the membership test method.\n",
    "fruits = {\"apple\", \"banana\", \"cherry\"}\n",
    "Write the syntax for the above question.'''\n",
    "fruits = {\"apple\", \"banana\", \"cherry\"}\n",
    "if \"apple\"  in fruits:\n",
    "    print(\"Yes, apple is a fruit!\")\n"
   ]
  },
  {
   "cell_type": "code",
   "execution_count": 20,
   "metadata": {},
   "outputs": [
    {
     "data": {
      "text/plain": [
       "{'apple', 'banana', 'cherry', 'grapes', 'mango', 'orange'}"
      ]
     },
     "execution_count": 20,
     "metadata": {},
     "output_type": "execute_result"
    }
   ],
   "source": [
    "'''9. Use the correct method to add multiple items (more_fruits) to the fruits set.\n",
    "fruits = {\"apple\", \"banana\", \"cherry\"}\n",
    "more_fruits = [\"orange\", \"mango\", \"grapes\"]\n",
    "Hint: Use ‘update’ method in python'''\n",
    "fruits = {\"apple\", \"banana\", \"cherry\"}\n",
    "more_fruits = [\"orange\", \"mango\", \"grapes\"]\n",
    "fruits.update(more_fruits)\n",
    "fruits"
   ]
  },
  {
   "cell_type": "code",
   "execution_count": 7,
   "metadata": {},
   "outputs": [
    {
     "name": "stdout",
     "output_type": "stream",
     "text": [
      "b -----> 200\n",
      "d -----> 200\n"
     ]
    }
   ],
   "source": [
    "'''10. Display all the keys with value 200 from the following dictionary.\n",
    "sampleDict = {'a': 100, 'b': 200, 'c': 300,’d’:200}'''\n",
    "\n",
    "sampleDict = {'a': 100, 'b': 200, 'c': 300, 'd':200}\n",
    "val=200\n",
    "for k in sampleDict.keys():\n",
    "    if sampleDict[k] == val:\n",
    "      print(k,\"----->\",sampleDict[k])"
   ]
  }
 ],
 "metadata": {
  "kernelspec": {
   "display_name": "Python 3.8.10 64-bit (windows store)",
   "language": "python",
   "name": "python3"
  },
  "language_info": {
   "codemirror_mode": {
    "name": "ipython",
    "version": 3
   },
   "file_extension": ".py",
   "mimetype": "text/x-python",
   "name": "python",
   "nbconvert_exporter": "python",
   "pygments_lexer": "ipython3",
   "version": "3.8.10"
  },
  "orig_nbformat": 4,
  "vscode": {
   "interpreter": {
    "hash": "d8f38a65f95ae979fba470ab93511c61f11d2b36188dbafc11a6a501c4e93194"
   }
  }
 },
 "nbformat": 4,
 "nbformat_minor": 2
}
