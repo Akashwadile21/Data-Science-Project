{
 "cells": [
  {
   "cell_type": "markdown",
   "metadata": {},
   "source": [
    "1) Write a program to accept percentage from the user and display the grade according to the following criteria:\n",
    "\n",
    "         Marks                                      Grade\n",
    "         > 90                                         A\n",
    "         > 80 and <= 90                               B\n",
    "         >= 60 and <= 80                              C\n",
    "         below 60                                     D"
   ]
  },
  {
   "cell_type": "code",
   "execution_count": 1,
   "metadata": {},
   "outputs": [
    {
     "name": "stdout",
     "output_type": "stream",
     "text": [
      "Grade D\n"
     ]
    }
   ],
   "source": [
    "per=int(input(\"Enter Marks\"))\n",
    "if per > 90:\n",
    "    print(\"Grade A \")\n",
    "if per > 80 and per <=90: \n",
    "    print (\"Grade B\")\n",
    "if per >= 60 and per <=80:\n",
    "    print (\"Grade c\")\n",
    "if per < 60:\n",
    "    print (\"Grade D\")"
   ]
  },
  {
   "cell_type": "markdown",
   "metadata": {},
   "source": [
    "2) Write a program to accept a number from 1 to 7 and display the name of the day like 1 for Sunday , 2 for Monday and so on."
   ]
  },
  {
   "cell_type": "code",
   "execution_count": 2,
   "metadata": {},
   "outputs": [
    {
     "name": "stdout",
     "output_type": "stream",
     "text": [
      "Please enter number between 1 to 7\n"
     ]
    }
   ],
   "source": [
    "num = int(input(\"Enter Number\"))\n",
    "\n",
    "if num == 1:\n",
    "    print(\"Sunday\")\n",
    "elif num == 2: \n",
    "    print (\"Monday\")\n",
    "elif num == 3: \n",
    "    print (\"tuesday\")\n",
    "elif num == 4: \n",
    "    print (\"wednesday\")\n",
    "elif num == 5: \n",
    "    print (\"Thursday\")\n",
    "elif num == 6: \n",
    "    print (\"Friday\")\n",
    "elif num == 7: \n",
    "    print (\"Saturday\")\n",
    "else:\n",
    "    print(\"Please enter number between 1 to 7\")"
   ]
  },
  {
   "cell_type": "markdown",
   "metadata": {},
   "source": [
    "3) Write a program to check whether a person is eligible for voting or not.(voting age >=18)"
   ]
  },
  {
   "cell_type": "code",
   "execution_count": 3,
   "metadata": {},
   "outputs": [
    {
     "name": "stdout",
     "output_type": "stream",
     "text": [
      "Eligible for voting\n"
     ]
    }
   ],
   "source": [
    "age = int(input(\"Enter age\"))\n",
    "if age >= 18:\n",
    "    print(\"Eligible for voting\")\n",
    "else:\n",
    "    print(\"Not eligible for voting\")"
   ]
  },
  {
   "cell_type": "markdown",
   "metadata": {},
   "source": [
    "4) Calculate the square of each number of list  <br>\n",
    "**numbers = [1, 2, 3, 4, 5]**\n"
   ]
  },
  {
   "cell_type": "code",
   "execution_count": 4,
   "metadata": {},
   "outputs": [
    {
     "name": "stdout",
     "output_type": "stream",
     "text": [
      "Square of: 1 is: 1\n",
      "Square of: 2 is: 4\n",
      "Square of: 3 is: 9\n",
      "Square of: 4 is: 16\n",
      "Square of: 5 is: 25\n"
     ]
    }
   ],
   "source": [
    "numbers = [1, 2, 3, 4, 5]\n",
    "# iterate over each element in list num\n",
    "for i in numbers:\n",
    "    # ** exponent operator\n",
    "    square = i ** 2\n",
    "    print(\"Square of:\", i, \"is:\", square)"
   ]
  },
  {
   "cell_type": "markdown",
   "metadata": {},
   "source": [
    "5) Print all even and odd numbers from 1 to 11."
   ]
  },
  {
   "cell_type": "code",
   "execution_count": 5,
   "metadata": {},
   "outputs": [
    {
     "name": "stdout",
     "output_type": "stream",
     "text": [
      "Odd Number: 1\n",
      "Even Number: 2\n",
      "Odd Number: 3\n",
      "Even Number: 4\n",
      "Odd Number: 5\n",
      "Even Number: 6\n",
      "Odd Number: 7\n",
      "Even Number: 8\n",
      "Odd Number: 9\n",
      "Even Number: 10\n"
     ]
    }
   ],
   "source": [
    "for i in range(1, 11):\n",
    "    if i % 2 == 0:\n",
    "        print('Even Number:', i)\n",
    "    else:\n",
    "        print('Odd Number:', i)"
   ]
  },
  {
   "cell_type": "markdown",
   "metadata": {},
   "source": [
    "6) Write a program to print n natural number in descending order using a while loop."
   ]
  },
  {
   "cell_type": "code",
   "execution_count": 6,
   "metadata": {},
   "outputs": [
    {
     "name": "stdout",
     "output_type": "stream",
     "text": [
      "4\n",
      "3\n",
      "2\n",
      "1\n"
     ]
    }
   ],
   "source": [
    "#program to print n natural number in descending order using a while loop\n",
    "\n",
    "i = int(input(\"Enter N: \"))\n",
    "while(i>0):\n",
    "  print(i)\n",
    "  i-=1"
   ]
  },
  {
   "cell_type": "markdown",
   "metadata": {},
   "source": [
    "7) Write a python program to write your name 5 times using while loop."
   ]
  },
  {
   "cell_type": "code",
   "execution_count": 8,
   "metadata": {},
   "outputs": [
    {
     "name": "stdout",
     "output_type": "stream",
     "text": [
      "Testbook\n",
      "Testbook\n",
      "Testbook\n",
      "Testbook\n",
      "Testbook\n"
     ]
    }
   ],
   "source": [
    "#python program to write your name 5 times using while loop\n",
    "\n",
    "i = 5\n",
    "name = str(input(\"Enter your name: \"))\n",
    "while(i>0):\n",
    "  print(name)\n",
    "  i-=1"
   ]
  },
  {
   "cell_type": "markdown",
   "metadata": {},
   "source": [
    "8) Write a python program to find the sum of all even numbers from 0 to 10 using while loop."
   ]
  },
  {
   "cell_type": "code",
   "execution_count": 7,
   "metadata": {},
   "outputs": [
    {
     "name": "stdout",
     "output_type": "stream",
     "text": [
      "30\n"
     ]
    }
   ],
   "source": [
    "i = 0\n",
    "sum = 0\n",
    "while(i<=10):\n",
    "  sum+=i\n",
    "  i+=2\n",
    "\n",
    "print(sum)"
   ]
  },
  {
   "cell_type": "code",
   "execution_count": null,
   "metadata": {},
   "outputs": [],
   "source": []
  }
 ],
 "metadata": {
  "kernelspec": {
   "display_name": "Python 3.8.10 64-bit (windows store)",
   "language": "python",
   "name": "python3"
  },
  "language_info": {
   "codemirror_mode": {
    "name": "ipython",
    "version": 3
   },
   "file_extension": ".py",
   "mimetype": "text/x-python",
   "name": "python",
   "nbconvert_exporter": "python",
   "pygments_lexer": "ipython3",
   "version": "3.8.10"
  },
  "orig_nbformat": 4,
  "vscode": {
   "interpreter": {
    "hash": "d8f38a65f95ae979fba470ab93511c61f11d2b36188dbafc11a6a501c4e93194"
   }
  }
 },
 "nbformat": 4,
 "nbformat_minor": 2
}
